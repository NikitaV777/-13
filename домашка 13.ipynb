{
 "cells": [
  {
   "cell_type": "code",
   "execution_count": null,
   "metadata": {},
   "outputs": [],
   "source": [
    "class Animal:\n",
    "    def talk(self):\n",
    "        pass\n",
    "\n",
    "\n",
    "class Dog(Animal):\n",
    "    def talk(self):\n",
    "        print('woof woof')\n",
    "\n",
    "\n",
    "class Cat(Animal):\n",
    "    def talk(self):\n",
    "        print('meow')\n",
    "\n",
    "\n",
    "def f(instance):\n",
    "    print(instance.__class__.__name__, ' say:')\n",
    "    instance.talk()\n",
    "\n",
    "\n",
    "long = Dog()\n",
    "loki = Cat()\n",
    "\n",
    "f(long)\n",
    "f(loki)"
   ]
  }
 ],
 "metadata": {
  "kernelspec": {
   "display_name": "Python 3",
   "language": "python",
   "name": "python3"
  },
  "language_info": {
   "codemirror_mode": {
    "name": "ipython",
    "version": 3
   },
   "file_extension": ".py",
   "mimetype": "text/x-python",
   "name": "python",
   "nbconvert_exporter": "python",
   "pygments_lexer": "ipython3",
   "version": "3.7.3"
  }
 },
 "nbformat": 4,
 "nbformat_minor": 2
}
